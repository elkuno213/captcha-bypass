{
 "cells": [
  {
   "cell_type": "markdown",
   "metadata": {},
   "source": [
    "# Notebook on cracking geetest CAPTCHA \n",
    "# This Notebook is for educational only\n",
    "# Author: Joe Ho\n",
    "# Date: 5, January, 2020"
   ]
  },
  {
   "cell_type": "markdown",
   "metadata": {},
   "source": [
    "## Import Library"
   ]
  },
  {
   "cell_type": "code",
   "execution_count": null,
   "metadata": {},
   "outputs": [],
   "source": [
    "import cv2\n",
    "import time\n",
    "import numpy as np\n",
    "import urllib.request\n",
    "\n",
    "import matplotlib.pyplot as plt\n",
    "import matplotlib.patches as patches\n",
    "from random import randint\n",
    "\n",
    "from scipy import ndimage, misc\n",
    "from scipy.spatial.distance import hamming\n",
    "\n",
    "import pandas as pd\n",
    "\n",
    "from selenium import webdriver\n",
    "\n",
    "import importlib\n",
    "\n",
    "import icon_matching\n",
    "import icon_detection\n",
    "import helpers"
   ]
  },
  {
   "cell_type": "code",
   "execution_count": null,
   "metadata": {
    "scrolled": true
   },
   "outputs": [],
   "source": [
    "# # Uncomment this part for real Geetest CAPTCHA\n",
    "\n",
    "\n",
    "# image_path = \".//image//\"+str(time.time())+\".jpg\"\n",
    "\n",
    "# driver = webdriver.Chrome() \n",
    "\n",
    "# # driver.get(\"https://www.geetest.com/en\")  # Old Path\n",
    "# driver.get(\"https://www.geetest.com/show\")  "
   ]
  },
  {
   "cell_type": "code",
   "execution_count": null,
   "metadata": {},
   "outputs": [],
   "source": [
    "# # Uncomment this part for real Geetest CAPTCHA\n",
    "\n",
    "\n",
    "# time.sleep(10)\n",
    "# img = driver.find_element_by_class_name(\"geetest_item_img\")\n",
    "# src = img.get_attribute('src')\n",
    "\n",
    "# # download the image\n",
    "# urllib.request.urlretrieve(src, image_path)"
   ]
  },
  {
   "cell_type": "code",
   "execution_count": null,
   "metadata": {},
   "outputs": [],
   "source": [
    "# # Comment this part for real Geetest CAPTCHA\n",
    "image_name = 2\n",
    "image_path = f\"dataset/img/{image_name}.jpg\" "
   ]
  },
  {
   "cell_type": "markdown",
   "metadata": {},
   "source": [
    "## Load geetest Image"
   ]
  },
  {
   "cell_type": "code",
   "execution_count": null,
   "metadata": {},
   "outputs": [],
   "source": [
    "img_grey = cv2.imread(image_path, cv2.IMREAD_GRAYSCALE)\n",
    "plt.imshow(img_grey, cmap=\"gray\")"
   ]
  },
  {
   "cell_type": "markdown",
   "metadata": {},
   "source": [
    "## Load targets"
   ]
  },
  {
   "cell_type": "code",
   "execution_count": null,
   "metadata": {},
   "outputs": [],
   "source": [
    "csv = pd.read_csv('dataset/data.csv', delimiter=',', header=None, index_col=0)\n",
    "print(csv)\n",
    "icons_name = csv.loc[image_name,1:]\n",
    "icons_path = [f'dataset/icon/{icon_name}.png' for icon_name in icons_name]\n",
    "icons_path"
   ]
  },
  {
   "cell_type": "code",
   "execution_count": null,
   "metadata": {},
   "outputs": [],
   "source": [
    "def filter_correct_channel(img):\n",
    "    if (img[:, :, 0] > 0).any(): return 255 - img[:, :, 0] #B\n",
    "    if (img[:, :, 1] > 0).any(): return 255 - img[:, :, 1] #G\n",
    "    if (img[:, :, 2] > 0).any(): return 255 - img[:, :, 2] #R\n",
    "    return img[:, :, 3]"
   ]
  },
  {
   "cell_type": "code",
   "execution_count": null,
   "metadata": {},
   "outputs": [],
   "source": [
    "def read_and_preprocess_icon(icon_path):\n",
    "    icon = cv2.imread(icon_path, cv2.IMREAD_UNCHANGED)\n",
    "    return filter_correct_channel(icon)"
   ]
  },
  {
   "cell_type": "code",
   "execution_count": null,
   "metadata": {},
   "outputs": [],
   "source": [
    "targets = [read_and_preprocess_icon(icon_path) for icon_path in icons_path]\n",
    "\n",
    "common_shape = np.min([target.shape for target in targets], axis=0)\n",
    "targets = [target.reshape(common_shape) for target in targets]\n",
    "\n",
    "for i, target in enumerate(targets):\n",
    "    plt.subplot(1, len(targets), i + 1)\n",
    "    plt.imshow(target, cmap=\"gray\")\n",
    "    print(f\"shape of {icons_path[i]}: {target.shape}\")"
   ]
  },
  {
   "cell_type": "markdown",
   "metadata": {},
   "source": [
    "## Icons filter"
   ]
  },
  {
   "cell_type": "code",
   "execution_count": null,
   "metadata": {
    "scrolled": true
   },
   "outputs": [],
   "source": [
    "# Image preprocessing\n",
    "\n",
    "color_threshold = 250\n",
    "main_pane = img_grey # cv2.blur(img_grey,(3,3)) # By blurring, we can remove some white pixels which may affecting the matching\n",
    "main_pane[main_pane<color_threshold] = 0\n",
    "main_pane[main_pane>=color_threshold] = 255\n",
    "plt.imshow(main_pane, cmap=\"gray\")"
   ]
  },
  {
   "cell_type": "markdown",
   "metadata": {},
   "source": [
    "## Locate icons"
   ]
  },
  {
   "cell_type": "code",
   "execution_count": null,
   "metadata": {
    "scrolled": true
   },
   "outputs": [],
   "source": [
    "importlib.reload(icon_detection)\n",
    "icons_rect_coordinates = icon_detection.find_bounding_box(image=main_pane, bounding_box_lower_thresholds=(20,20), \n",
    "                                                          bounding_box_upper_thresholds=(100,100))\n",
    "icons = icon_detection.segment_pictures(image=main_pane, rect_coordinates=icons_rect_coordinates, \n",
    "                                        dimension_resized=common_shape)"
   ]
  },
  {
   "cell_type": "code",
   "execution_count": null,
   "metadata": {},
   "outputs": [],
   "source": [
    "for i, icon in enumerate(icons):\n",
    "    plt.subplot(1, len(icons), i + 1)\n",
    "    plt.imshow(icon, cmap=\"gray\")\n",
    "    print(icon.shape)"
   ]
  },
  {
   "cell_type": "code",
   "execution_count": null,
   "metadata": {},
   "outputs": [],
   "source": [
    "importlib.reload(helpers)\n",
    "helpers.draw_bounding_box(main_pane, icons_rect_coordinates)    "
   ]
  },
  {
   "cell_type": "markdown",
   "metadata": {},
   "source": [
    "## Identify the most similiar icon in main pane for each target"
   ]
  },
  {
   "cell_type": "markdown",
   "metadata": {},
   "source": [
    "### Compute similarity matrix\n",
    "\n",
    "icon\\target | t1 | t2 | t3 |\n",
    "------------|----|----|----|\n",
    "i1          |s11 |s12 |s13 |\n",
    "i2          |s21 |s22 |s23 |\n",
    "i3          |s31 |s32 |s33 |\n",
    "\n",
    "1. Flatten the matrix. \n",
    "2. Use argsort on similarities in descending order and then pick the first nb_icons element\n",
    "3. compute mapping based on mapping\\[index \\% nb_icons\\] = index / nb_icons "
   ]
  },
  {
   "cell_type": "code",
   "execution_count": null,
   "metadata": {
    "scrolled": true
   },
   "outputs": [],
   "source": [
    "importlib.reload(icon_matching)\n",
    "mapping = icon_matching.match_icons_with_targets(icons=icons, targets=targets)\n",
    "print(mapping)"
   ]
  },
  {
   "cell_type": "markdown",
   "metadata": {},
   "source": [
    "### Plot result"
   ]
  },
  {
   "cell_type": "code",
   "execution_count": null,
   "metadata": {},
   "outputs": [],
   "source": [
    "fig,ax = plt.subplots(1)\n",
    "ax.imshow(main_pane, cmap=\"gray\")\n",
    "\n",
    "for key in range(len(targets)):\n",
    "    x,y,w,h = icons_rect_coordinates[mapping[key]]\n",
    "    \n",
    "    # x,y is the coordinate of top left hand corner\n",
    "    # Bounding box is 70x70, so centre of circle = (x+70/2, y+70/2), i.e. (x+35, y+35)\n",
    "    centre_x = x+(w//2)\n",
    "    centre_y = y+(h//2)\n",
    "    # Plot circle\n",
    "    circle = plt.Circle((centre_x,centre_y), 20, color=\"green\", fill=False, linewidth=5)\n",
    "    # Plot centre\n",
    "    fontsize = 24\n",
    "    plt.text(centre_x - fontsize//4, centre_y + fontsize//4, str(key), color=\"red\", fontsize=fontsize)\n",
    "    ax.add_patch(circle)\n",
    "     \n",
    "plt.show()"
   ]
  },
  {
   "cell_type": "code",
   "execution_count": null,
   "metadata": {},
   "outputs": [],
   "source": [
    "for i, target in enumerate(targets):\n",
    "    plt.subplot(1, len(targets), i + 1)\n",
    "    plt.imshow(target, cmap=\"gray\")"
   ]
  },
  {
   "cell_type": "markdown",
   "metadata": {},
   "source": [
    "## Click targets"
   ]
  },
  {
   "cell_type": "code",
   "execution_count": null,
   "metadata": {},
   "outputs": [],
   "source": [
    "# # Uncomment this part for real Geetest CAPTCHA\n",
    "\n",
    "\n",
    "# time.sleep(10)\n",
    "# for i, target in enumerate(targets):\n",
    "#     key = i\n",
    "#     x,y,w,h = icons_rect_coordinates[mapping[key]]\n",
    "    \n",
    "#     # x,y is the coordinate of top left hand corner\n",
    "#     # Bounding box is 70x70, so centre of circle = (x+70/2, y+70/2), i.e. (x+35, y+35)\n",
    "#     centre_x = x+(w//2)\n",
    "#     centre_y = y+(h//2)\n",
    "    \n",
    "#     ele=driver.find_element_by_xpath(u\"(.//*[normalize-space(text()) and normalize-space(.)='加载中...'])[1]/following::div[1]\")\n",
    "#     action = webdriver.common.action_chains.ActionChains(driver)\n",
    "#     action.move_to_element_with_offset(ele, centre_x, centre_y)\n",
    "#     time.sleep(randint(100,700)/1000) # Random Pause between two consecutive clicks\n",
    "#     action.click()\n",
    "#     action.perform()\n",
    "\n",
    "# # Click Ok button in CAPTCHA after some random pause\n",
    "# time.sleep(randint(100,700)/1000)\n",
    "# driver.find_element_by_xpath(u\"(.//*[normalize-space(text()) and normalize-space(.)='帮助反馈'])[1]/following::div[2]\").click()    "
   ]
  }
 ],
 "metadata": {
  "kernelspec": {
   "display_name": "Python 3 (ipykernel)",
   "language": "python",
   "name": "python3"
  },
  "language_info": {
   "codemirror_mode": {
    "name": "ipython",
    "version": 3
   },
   "file_extension": ".py",
   "mimetype": "text/x-python",
   "name": "python",
   "nbconvert_exporter": "python",
   "pygments_lexer": "ipython3",
   "version": "3.7.7"
  }
 },
 "nbformat": 4,
 "nbformat_minor": 2
}
